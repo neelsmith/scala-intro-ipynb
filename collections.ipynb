{
  "cells": [
    {
      "cell_type": "markdown",
      "source": [
        "# Just enough Scala"
      ],
      "metadata": {}
    },
    {
      "cell_type": "markdown",
      "source": [
        "- [Expressions, named values and method](nbs/named-expressions.ipynb)\n",
        "- [Collections](collections.ipynb)\n",
        "    - [Vectors](nbs/vectors.ipynb)\n",
        "    - [Sets](nbs/sets.ipynb)\n",
        "    - [Maps](nbs/maps.ipynb)\n",
        "- Defining your own functions\n",
        "- Data modelling with case classes\n",
        "- Using external libraries\n",
        "- Loading data from local files and URLs\n",
        "\n"
      ],
      "metadata": {}
    }
  ],
  "metadata": {
    "kernel_info": {
      "name": "scala212"
    },
    "kernelspec": {
      "name": "scala212",
      "language": "scala",
      "display_name": "Scala212 (almond)"
    },
    "language_info": {
      "name": "scala",
      "version": "2.12.10",
      "mimetype": "text/x-scala",
      "file_extension": ".scala",
      "nbconvert_exporter": "script",
      "codemirror_mode": "text/x-scala"
    },
    "nteract": {
      "version": "0.15.0"
    }
  },
  "nbformat": 4,
  "nbformat_minor": 1
}