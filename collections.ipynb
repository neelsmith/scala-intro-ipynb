{
  "cells": [
    {
      "cell_type": "markdown",
      "source": [
        "# Collections\n",
        "\n",
        "Scala has a rich variety of classes for working with *collections* of elements.  These notebooks will introduce three.\n",
        "\n",
        "- *Vectors* are ordered collections of objects.  Different elements in a Vector may have the same value.\n",
        "- *Sets* are unordered collections where every object has a unique value.\n",
        "- *Maps* are collections of *key* / *value* pairings.\n",
        "\n",
        "Vectors, Sets and Maps have distinct methods appropriate for their particular concept or model of a collection.  See the following notebooks for more information.\n"
      ],
      "metadata": {}
    },
    {
      "cell_type": "markdown",
      "source": [
        "## Important classes of collections in Scala\n",
        "\n",
        "- [Vectors](nbs/vectors.ipynb)\n",
        "- [Sets](nbs/sets.ipynb)\n",
        "- [Maps](nbs/maps.ipynb)\n",
        "\n",
        "\n",
        "\n"
      ],
      "metadata": {}
    }
  ],
  "metadata": {
    "kernel_info": {
      "name": "scala212"
    },
    "kernelspec": {
      "name": "scala212",
      "language": "scala",
      "display_name": "Scala212 (almond)"
    },
    "language_info": {
      "name": "scala",
      "version": "2.12.10",
      "mimetype": "text/x-scala",
      "file_extension": ".scala",
      "nbconvert_exporter": "script",
      "codemirror_mode": "text/x-scala"
    },
    "nteract": {
      "version": "0.21.0"
    }
  },
  "nbformat": 4,
  "nbformat_minor": 1
}