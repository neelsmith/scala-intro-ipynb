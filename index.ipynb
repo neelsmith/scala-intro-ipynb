{
  "cells": [
    {
      "cell_type": "markdown",
      "source": [
        "# Just enough Scala"
      ],
      "metadata": {}
    },
    {
      "cell_type": "markdown",
      "source": [
        "- [Expressions, named values and method](nbs/named-expressions.ipynb)\n",
        "- Collections:  [overview](collections.ipynb)\n",
        "    - [Vectors](nbs/vectors.ipynb)\n",
        "    - [Sets](nbs/sets.ipynb)\n",
        "    - [Maps](nbs/maps.ipynb)\n",
        "- Defining your own functions\n",
        "- Data modelling with case classes\n",
        "- Using external libraries\n",
        "- Loading data from local files and URLs\n",
        "\n"
      ],
      "metadata": {}
    }
  ],
  "metadata": {
    "kernel_info": {
      "name": "python2"
    },
    "kernelspec": {
      "display_name": "Python 3",
      "language": "python",
      "name": "python3"
    },
    "language_info": {
      "codemirror_mode": {
        "name": "ipython",
        "version": 3
      },
      "file_extension": ".py",
      "mimetype": "text/x-python",
      "name": "python",
      "nbconvert_exporter": "python",
      "pygments_lexer": "ipython3",
      "version": "3.7.3"
    },
    "nteract": {
      "version": "0.21.0"
    }
  },
  "nbformat": 4,
  "nbformat_minor": 1
}