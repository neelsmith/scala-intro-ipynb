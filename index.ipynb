{
 "cells": [
  {
   "cell_type": "markdown",
   "metadata": {},
   "source": [
    "# Just enough Scala\n",
    "\n",
    "The notebooks linked here introduce you to just enough Scala to write the kind of short scripts and other Scala notebooks that can solve lots of real, everyday problems.\n",
    "\n",
    "Students in my course \"[Archaeological Data Analysis](http://shot.holycross.edu/courses/ada/S20/)\" can do everything necessary for the class using only the Scala introduced here."
   ]
  },
  {
   "cell_type": "markdown",
   "metadata": {},
   "source": [
    "### Fundamentals\n",
    "\n",
    "- [Expressions, named values and method](nbs/named-expressions.ipynb)\n",
    "- Collections:  [overview](collections.ipynb), and brief introductons to:\n",
    "    - [Vectors](nbs/vectors.ipynb)\n",
    "    - [Sets](nbs/sets.ipynb)\n",
    "    - [Maps](nbs/maps.ipynb)\n",
    "- [Grouping the contents of Vectors with `groupBy`](nbs/groupby.ipynb)\n",
    "- Defining your own functions\n",
    "- Data modelling with case classes\n",
    "\n",
    "\n",
    "\n",
    "### A few other useful details\n",
    "\n",
    "- Using external libraries\n",
    "- Loading data from local files and URLs\n",
    "- [Plotting bar charts](nbs/plotting-bar-charts.ipynb)\n"
   ]
  }
 ],
 "metadata": {
  "kernel_info": {
   "name": "python2"
  },
  "kernelspec": {
   "display_name": "Python 3",
   "language": "python",
   "name": "python3"
  },
  "language_info": {
   "codemirror_mode": {
    "name": "ipython",
    "version": 3
   },
   "file_extension": ".py",
   "mimetype": "text/x-python",
   "name": "python",
   "nbconvert_exporter": "python",
   "pygments_lexer": "ipython3",
   "version": "3.7.6"
  },
  "nteract": {
   "version": "0.21.0"
  }
 },
 "nbformat": 4,
 "nbformat_minor": 1
}
