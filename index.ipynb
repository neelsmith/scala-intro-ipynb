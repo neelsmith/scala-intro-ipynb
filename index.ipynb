{
  "cells": [
    {
      "cell_type": "markdown",
      "source": [
        "# Just enough Scala"
      ],
      "metadata": {}
    },
    {
      "cell_type": "markdown",
      "source": [
        "- [Expressions, named values and method](nbs/named-expressions.ipynb)\n",
        "- [Collections](nbs/collections.ipynb)\n",
        "- Defining your own functions\n",
        "- Data modelling with case classes\n",
        "- Using external libraries\n",
        "- Loading data from local files and URLs\n",
        "\n"
      ],
      "metadata": {}
    }
  ],
  "metadata": {
    "kernel_info": {
      "name": "python2"
    },
    "language_info": {
      "mimetype": "text/x-python",
      "nbconvert_exporter": "python",
      "name": "python",
      "pygments_lexer": "ipython2",
      "version": "2.7.16",
      "file_extension": ".py",
      "codemirror_mode": {
        "version": 2,
        "name": "ipython"
      }
    },
    "kernelspec": {
      "name": "python2",
      "language": "python",
      "display_name": "Python 2"
    },
    "nteract": {
      "version": "0.15.0"
    }
  },
  "nbformat": 4,
  "nbformat_minor": 0
}