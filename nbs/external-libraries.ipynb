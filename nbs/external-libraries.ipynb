{
 "cells": [
  {
   "cell_type": "markdown",
   "metadata": {},
   "source": [
    "# Using external libraries\n",
    "\n",
    "In addition to the standard parts of the Scala language, you can add to your Scala programs code libraries that you or other people have written using the `import` keyword.\n",
    "\n",
    "To use the `import` keyword in a Jupyter notebook, you first need to make sure that your notebook can find the library you want to import.\n",
    "\n",
    "## Configuring your notebook\n",
    "\n",
    "If the library you want to import is one of the places Jupyter notebooks look by default, you can jump straight to step 2 of this configuration, but if you want to add a repository where your notebook should look for repositories, you can use the somewhat convoluted syntax in the following cell.  It may not be worth your while analyzing this syntax closely: just copy it and reuse it...\n",
    "\n"
   ]
  },
  {
   "cell_type": "code",
   "execution_count": null,
   "metadata": {},
   "outputs": [],
   "source": [
    "// 1. Add maven repository where we can find our libraries\n",
    "val myBT = coursierapi.MavenRepository.of(\"https://dl.bintray.com/neelsmith/maven\")\n",
    "interp.repositories() ++= Seq(myBT)"
   ]
  },
  {
   "cell_type": "markdown",
   "metadata": {},
   "source": [
    "In a Jupyter notebook running the almond.sh kernel, you can configure your notebook to identify a library version as int he following cell.  You probably *should* understand the syntax of the syntax in back-ticks.  The first section before the double colon identifies the *group* or organization responsible for the library (`edu.holycross.shot`).  The section between the double colon and single colon is the name of the library (`pleiades`).  The final section is a three-part version number.\n",
    "\n",
    "The libraries used in this notebook follow a convention called *semantic versioning*. The left-most digit changes only when the programming interface (API) changes;  the middle digit changes when new functionality is added without breaking the API; the right-most digit changes when bug fixes are added without adding new functionality.  (For more on semantic versioning, see <https://semver.org/>.)\n"
   ]
  },
  {
   "cell_type": "code",
   "execution_count": null,
   "metadata": {},
   "outputs": [],
   "source": [
    "// 2. Make libraries available with `$ivy` imports:\n",
    "import $ivy.`edu.holycross.shot::pleiades:1.1.0`"
   ]
  },
  {
   "cell_type": "markdown",
   "metadata": {},
   "source": [
    "## Using libraries\n",
    "\n",
    "At this point, your notebook is fully configured, and you can use the `pleiades` library the same way you would in any Scala program with the `import` keyword.  You can either import specifically listed classes, or, as here, use the underscore `_` (or \"fill-in-the-blank notation\") to include *all* classes in the library. "
   ]
  },
  {
   "cell_type": "code",
   "execution_count": null,
   "metadata": {},
   "outputs": [],
   "source": [
    "import edu.holycross.shot.pleiades._"
   ]
  },
  {
   "cell_type": "markdown",
   "metadata": {},
   "source": [
    "Now all the classes of the `pleiades` library are imported.  Here's a quick example of something you're probably glad you don't have to write from scatch yourself.\n",
    "\n",
    "First: let's load data from the [pleiades project](https://pleiades.stoa.org/) into Scala classes."
   ]
  },
  {
   "cell_type": "code",
   "execution_count": null,
   "metadata": {},
   "outputs": [],
   "source": [
    "val pleiades = PleiadesDataSource.loadFromUrls()"
   ]
  },
  {
   "cell_type": "markdown",
   "metadata": {},
   "source": [
    "The output from the previous cell tells us that we created an object of the `Pleiades` class.\n",
    "\n",
    "Since I've already looked up the documentation of the `Pleiades` class, I know it has a method that lets me find data in the Pleiades data set by searching for a place name."
   ]
  },
  {
   "cell_type": "code",
   "execution_count": null,
   "metadata": {},
   "outputs": [],
   "source": [
    "val athens = pleiades.lookupName(\"Athens\")"
   ]
  },
  {
   "cell_type": "markdown",
   "metadata": {},
   "source": [
    "The result is a Vector of `PleiadesPlace` objects that include an id nuber, a description, and possibly a geographic location.\n",
    "\n",
    "We're sure our new library is working correctly: there is definitely *not* a `Pleiades` class in the standard libraries of the Scala language!"
   ]
  }
 ],
 "metadata": {
  "kernelspec": {
   "display_name": "Scala (2.12)",
   "language": "scala",
   "name": "scala212"
  },
  "language_info": {
   "codemirror_mode": "text/x-scala",
   "file_extension": ".scala",
   "mimetype": "text/x-scala",
   "name": "scala",
   "nbconvert_exporter": "script",
   "version": "2.12.10"
  }
 },
 "nbformat": 4,
 "nbformat_minor": 4
}
