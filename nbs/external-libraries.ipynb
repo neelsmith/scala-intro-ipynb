{
 "cells": [
  {
   "cell_type": "markdown",
   "metadata": {},
   "source": [
    "# Using external libraries\n",
    "\n",
    "\n",
    "## Configuring your notebook\n",
    "\n",
    "- ivy imports for standard scala libraries\n",
    "- adding custom repositories\n",
    "\n",
    "## Using libraries\n",
    "\n",
    "- standard Scala `import`"
   ]
  }
 ],
 "metadata": {
  "kernelspec": {
   "display_name": "Scala (2.12)",
   "language": "scala",
   "name": "scala212"
  },
  "language_info": {
   "codemirror_mode": "text/x-scala",
   "file_extension": ".scala",
   "mimetype": "text/x-scala",
   "name": "scala",
   "nbconvert_exporter": "script",
   "version": "2.12.10"
  }
 },
 "nbformat": 4,
 "nbformat_minor": 4
}
