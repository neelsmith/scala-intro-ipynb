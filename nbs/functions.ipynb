{
  "cells": [
    {
      "cell_type": "markdown",
      "source": [
        "# Designing your own functions\n",
        "\n",
        "*Functions*  are a group of statements that produce a new value.  They\n",
        "are a fundamental part of Scala. \n",
        "\n",
        "You've probably already seen examples of functions:  we call them *methods* when they are defined for an entire class of object.  Strings, for example have a `split` method that lets you split up a String into an Array of Strings based on a pattern you define.  You're not limited to these predefined functions, however.  You can define your own functions using the `def` keyword.  \n",
        "\n",
        "Consider the following cell using the `split` method to split a text up into an Array of words.\n"
      ],
      "metadata": {}
    },
    {
      "cell_type": "code",
      "source": [
        "val gettysburg = \"\"\"Four score and   seven years ago our fathers \n",
        "brought forth, on this continent, a new nation, \n",
        "conceived in Liberty, and dedicated to the proposition \n",
        "that all men are created equal.\"\"\"\n",
        "\n",
        "gettysburg.split(\" \")"
      ],
      "outputs": [
        {
          "output_type": "execute_result",
          "execution_count": 18,
          "data": {
            "text/plain": [
              "\u001b[36mgettysburg\u001b[39m: \u001b[32mString\u001b[39m = \u001b[32m\"\"\"Four score and   seven years ago our fathers \n",
              "brought forth, on this continent, a new nation, \n",
              "conceived in Liberty, and dedicated to the proposition \n",
              "that all men are created equal.\"\"\"\u001b[39m\n",
              "\u001b[36mres17_1\u001b[39m: \u001b[32mArray\u001b[39m[\u001b[32mString\u001b[39m] = \u001b[33mArray\u001b[39m(\n",
              "  \u001b[32m\"Four\"\u001b[39m,\n",
              "  \u001b[32m\"score\"\u001b[39m,\n",
              "  \u001b[32m\"and\"\u001b[39m,\n",
              "  \u001b[32m\"\"\u001b[39m,\n",
              "  \u001b[32m\"\"\u001b[39m,\n",
              "  \u001b[32m\"seven\"\u001b[39m,\n",
              "  \u001b[32m\"years\"\u001b[39m,\n",
              "  \u001b[32m\"ago\"\u001b[39m,\n",
              "  \u001b[32m\"our\"\u001b[39m,\n",
              "  \u001b[32m\"fathers\"\u001b[39m,\n",
              "  \u001b[32m\"\"\"\n",
              "brought\"\"\"\u001b[39m,\n",
              "  \u001b[32m\"forth,\"\u001b[39m,\n",
              "  \u001b[32m\"on\"\u001b[39m,\n",
              "  \u001b[32m\"this\"\u001b[39m,\n",
              "  \u001b[32m\"continent,\"\u001b[39m,\n",
              "  \u001b[32m\"a\"\u001b[39m,\n",
              "  \u001b[32m\"new\"\u001b[39m,\n",
              "  \u001b[32m\"nation,\"\u001b[39m,\n",
              "  \u001b[32m\"\"\"\n",
              "conceived\"\"\"\u001b[39m,\n",
              "  \u001b[32m\"in\"\u001b[39m,\n",
              "  \u001b[32m\"Liberty,\"\u001b[39m,\n",
              "  \u001b[32m\"and\"\u001b[39m,\n",
              "  \u001b[32m\"dedicated\"\u001b[39m,\n",
              "  \u001b[32m\"to\"\u001b[39m,\n",
              "  \u001b[32m\"the\"\u001b[39m,\n",
              "  \u001b[32m\"proposition\"\u001b[39m,\n",
              "  \u001b[32m\"\"\"\n",
              "that\"\"\"\u001b[39m,\n",
              "  \u001b[32m\"all\"\u001b[39m,\n",
              "  \u001b[32m\"men\"\u001b[39m,\n",
              "  \u001b[32m\"are\"\u001b[39m,\n",
              "  \u001b[32m\"created\"\u001b[39m,\n",
              "  \u001b[32m\"equal.\"\u001b[39m\n",
              ")"
            ]
          },
          "metadata": {}
        }
      ],
      "execution_count": 18,
      "metadata": {
        "collapsed": false,
        "jupyter": {
          "source_hidden": false,
          "outputs_hidden": false
        },
        "nteract": {
          "transient": {
            "deleting": false
          }
        }
      }
    },
    {
      "cell_type": "markdown",
      "source": [
        "This is a handy first cut, but not exactly what we want: punctuation marks are kept alongside alphabetic characters (`forth,`, `continent,`, `nation,`, `Liberty,` `equal.`), as are other white-space characters like the new line (notice the new line character kept with alphabet `brougth`, `conceived` and `that`).  Runs of more than one space character result in empty Strings (between `and` and `seven`).  To split up a String into exactly the kind of word units we want, we'll need to write our own function.\n",
        "\n"
      ],
      "metadata": {
        "nteract": {
          "transient": {
            "deleting": false
          }
        }
      }
    },
    {
      "cell_type": "code",
      "source": [
        "/** Divide a String into a Vector words, original version.\n",
        "*\n",
        "* @param str String to split into words.\n",
        "*/\n",
        "def naiveTokens(str: String): Vector[String] = {\n",
        "    str.split(\" \").toVector\n",
        "}"
      ],
      "outputs": [
        {
          "output_type": "execute_result",
          "execution_count": 19,
          "data": {
            "text/plain": [
              "defined \u001b[32mfunction\u001b[39m \u001b[36mnaiveTokens\u001b[39m"
            ]
          },
          "metadata": {}
        }
      ],
      "execution_count": 19,
      "metadata": {
        "collapsed": false,
        "jupyter": {
          "source_hidden": false,
          "outputs_hidden": false
        },
        "nteract": {
          "transient": {
            "deleting": false
          }
        }
      }
    },
    {
      "cell_type": "code",
      "source": [
        "// Test naiveTokens:\n",
        "naiveTokens(gettysburg)"
      ],
      "outputs": [
        {
          "output_type": "execute_result",
          "execution_count": 20,
          "data": {
            "text/plain": [
              "\u001b[36mres19\u001b[39m: \u001b[32mVector\u001b[39m[\u001b[32mString\u001b[39m] = \u001b[33mVector\u001b[39m(\n",
              "  \u001b[32m\"Four\"\u001b[39m,\n",
              "  \u001b[32m\"score\"\u001b[39m,\n",
              "  \u001b[32m\"and\"\u001b[39m,\n",
              "  \u001b[32m\"\"\u001b[39m,\n",
              "  \u001b[32m\"\"\u001b[39m,\n",
              "  \u001b[32m\"seven\"\u001b[39m,\n",
              "  \u001b[32m\"years\"\u001b[39m,\n",
              "  \u001b[32m\"ago\"\u001b[39m,\n",
              "  \u001b[32m\"our\"\u001b[39m,\n",
              "  \u001b[32m\"fathers\"\u001b[39m,\n",
              "  \u001b[32m\"\"\"\n",
              "brought\"\"\"\u001b[39m,\n",
              "  \u001b[32m\"forth,\"\u001b[39m,\n",
              "  \u001b[32m\"on\"\u001b[39m,\n",
              "  \u001b[32m\"this\"\u001b[39m,\n",
              "  \u001b[32m\"continent,\"\u001b[39m,\n",
              "  \u001b[32m\"a\"\u001b[39m,\n",
              "  \u001b[32m\"new\"\u001b[39m,\n",
              "  \u001b[32m\"nation,\"\u001b[39m,\n",
              "  \u001b[32m\"\"\"\n",
              "conceived\"\"\"\u001b[39m,\n",
              "  \u001b[32m\"in\"\u001b[39m,\n",
              "  \u001b[32m\"Liberty,\"\u001b[39m,\n",
              "  \u001b[32m\"and\"\u001b[39m,\n",
              "  \u001b[32m\"dedicated\"\u001b[39m,\n",
              "  \u001b[32m\"to\"\u001b[39m,\n",
              "  \u001b[32m\"the\"\u001b[39m,\n",
              "  \u001b[32m\"proposition\"\u001b[39m,\n",
              "  \u001b[32m\"\"\"\n",
              "that\"\"\"\u001b[39m,\n",
              "  \u001b[32m\"all\"\u001b[39m,\n",
              "  \u001b[32m\"men\"\u001b[39m,\n",
              "  \u001b[32m\"are\"\u001b[39m,\n",
              "  \u001b[32m\"created\"\u001b[39m,\n",
              "  \u001b[32m\"equal.\"\u001b[39m\n",
              ")"
            ]
          },
          "metadata": {}
        }
      ],
      "execution_count": 20,
      "metadata": {
        "collapsed": false,
        "jupyter": {
          "source_hidden": false,
          "outputs_hidden": false
        },
        "nteract": {
          "transient": {
            "deleting": false
          }
        }
      }
    },
    {
      "cell_type": "markdown",
      "source": [
        "Implement something better"
      ],
      "metadata": {
        "nteract": {
          "transient": {
            "deleting": false
          }
        }
      }
    },
    {
      "cell_type": "code",
      "source": [
        "/** Divide a String into a Vector words, version 1.\n",
        "*\n",
        "* @param str String to split into words.\n",
        "*/\n",
        "def wordTokens1(str: String, sorted: Boolean = false) : Vector[String] = {\n",
        "    val regularWhiteSpace = str.replaceAll(\"[\\\\s]+\", \" \")\n",
        "    val tokens = regularWhiteSpace.replaceAll(\"[^\\\\'a-zA-Z ]\",\"\").split(\" \").toVector\n",
        "    tokens\n",
        "}"
      ],
      "outputs": [],
      "execution_count": null,
      "metadata": {
        "collapsed": false,
        "jupyter": {
          "source_hidden": false,
          "outputs_hidden": false
        },
        "nteract": {
          "transient": {
            "deleting": false
          }
        }
      }
    },
    {
      "cell_type": "code",
      "source": [
        "// Test this version:\n",
        "wordTokens1(gettysburg)"
      ],
      "outputs": [
        {
          "output_type": "execute_result",
          "execution_count": 22,
          "data": {
            "text/plain": [
              "\u001b[36mres21\u001b[39m: \u001b[32mVector\u001b[39m[\u001b[32mString\u001b[39m] = \u001b[33mVector\u001b[39m(\n",
              "  \u001b[32m\"Four\"\u001b[39m,\n",
              "  \u001b[32m\"score\"\u001b[39m,\n",
              "  \u001b[32m\"and\"\u001b[39m,\n",
              "  \u001b[32m\"seven\"\u001b[39m,\n",
              "  \u001b[32m\"years\"\u001b[39m,\n",
              "  \u001b[32m\"ago\"\u001b[39m,\n",
              "  \u001b[32m\"our\"\u001b[39m,\n",
              "  \u001b[32m\"fathers\"\u001b[39m,\n",
              "  \u001b[32m\"brought\"\u001b[39m,\n",
              "  \u001b[32m\"forth\"\u001b[39m,\n",
              "  \u001b[32m\"on\"\u001b[39m,\n",
              "  \u001b[32m\"this\"\u001b[39m,\n",
              "  \u001b[32m\"continent\"\u001b[39m,\n",
              "  \u001b[32m\"a\"\u001b[39m,\n",
              "  \u001b[32m\"new\"\u001b[39m,\n",
              "  \u001b[32m\"nation\"\u001b[39m,\n",
              "  \u001b[32m\"conceived\"\u001b[39m,\n",
              "  \u001b[32m\"in\"\u001b[39m,\n",
              "  \u001b[32m\"Liberty\"\u001b[39m,\n",
              "  \u001b[32m\"and\"\u001b[39m,\n",
              "  \u001b[32m\"dedicated\"\u001b[39m,\n",
              "  \u001b[32m\"to\"\u001b[39m,\n",
              "  \u001b[32m\"the\"\u001b[39m,\n",
              "  \u001b[32m\"proposition\"\u001b[39m,\n",
              "  \u001b[32m\"that\"\u001b[39m,\n",
              "  \u001b[32m\"all\"\u001b[39m,\n",
              "  \u001b[32m\"men\"\u001b[39m,\n",
              "  \u001b[32m\"are\"\u001b[39m,\n",
              "  \u001b[32m\"created\"\u001b[39m,\n",
              "  \u001b[32m\"equal\"\u001b[39m\n",
              ")"
            ]
          },
          "metadata": {}
        }
      ],
      "execution_count": 22,
      "metadata": {
        "collapsed": false,
        "jupyter": {
          "source_hidden": false,
          "outputs_hidden": false
        },
        "nteract": {
          "transient": {
            "deleting": false
          }
        }
      }
    },
    {
      "cell_type": "markdown",
      "source": [],
      "metadata": {
        "nteract": {
          "transient": {
            "deleting": false
          }
        }
      }
    },
    {
      "cell_type": "code",
      "source": [
        "def wordTokens2(str: String, sorted: Boolean = false) : Vector[String] = {\n",
        "    val regularWhiteSpace = str.replaceAll(\"[\\\\s]+\", \" \")\n",
        "    val tokens = regularWhiteSpace.replaceAll(\"[^\\\\'a-zA-Z ]\",\"\").split(\" \").toVector\n",
        "    if (sorted) {\n",
        "        tokens.sortBy(tkn => tkn.toLowerCase)\n",
        "    } else {\n",
        "        tokens\n",
        "    }\n",
        "}"
      ],
      "outputs": [],
      "execution_count": null,
      "metadata": {
        "collapsed": false,
        "jupyter": {
          "source_hidden": false,
          "outputs_hidden": false
        },
        "nteract": {
          "transient": {
            "deleting": false
          }
        }
      }
    },
    {
      "cell_type": "code",
      "source": [
        "/** Divide a String into a Vector words, version 1.\n",
        "*\n",
        "* @param str String to split into words.\n",
        "*/\n",
        "def wordTokens1(str: String, sorted: Boolean = false) : Vector[String] = {\n",
        "    val regularWhiteSpace = str.replaceAll(\"[\\\\s]+\", \" \")\n",
        "    val tokens = regularWhiteSpace.replaceAll(\"[^\\\\'a-zA-Z ]\",\"\").split(\" \").toVector\n",
        "    tokens\n",
        "}"
      ],
      "outputs": [
        {
          "output_type": "execute_result",
          "execution_count": 21,
          "data": {
            "text/plain": [
              "defined \u001b[32mfunction\u001b[39m \u001b[36mwordTokens1\u001b[39m"
            ]
          },
          "metadata": {}
        }
      ],
      "execution_count": 21,
      "metadata": {
        "collapsed": false,
        "jupyter": {
          "source_hidden": false,
          "outputs_hidden": false
        },
        "nteract": {
          "transient": {
            "deleting": false
          }
        }
      }
    },
    {
      "cell_type": "code",
      "source": [
        "wordTokens2(tip)\n",
        "wordTokens2(tip, sorted = true)"
      ],
      "outputs": [
        {
          "output_type": "execute_result",
          "execution_count": 15,
          "data": {
            "text/plain": [
              "\u001b[36mres14_0\u001b[39m: \u001b[32mVector\u001b[39m[\u001b[32mString\u001b[39m] = \u001b[33mVector\u001b[39m(\n",
              "  \u001b[32m\"It's\"\u001b[39m,\n",
              "  \u001b[32m\"a\"\u001b[39m,\n",
              "  \u001b[32m\"long\"\u001b[39m,\n",
              "  \u001b[32m\"road\"\u001b[39m,\n",
              "  \u001b[32m\"to\"\u001b[39m,\n",
              "  \u001b[32m\"Tipperary\"\u001b[39m,\n",
              "  \u001b[32m\"and\"\u001b[39m,\n",
              "  \u001b[32m\"then\"\u001b[39m,\n",
              "  \u001b[32m\"some\"\u001b[39m\n",
              ")\n",
              "\u001b[36mres14_1\u001b[39m: \u001b[32mVector\u001b[39m[\u001b[32mString\u001b[39m] = \u001b[33mVector\u001b[39m(\n",
              "  \u001b[32m\"a\"\u001b[39m,\n",
              "  \u001b[32m\"and\"\u001b[39m,\n",
              "  \u001b[32m\"It's\"\u001b[39m,\n",
              "  \u001b[32m\"long\"\u001b[39m,\n",
              "  \u001b[32m\"road\"\u001b[39m,\n",
              "  \u001b[32m\"some\"\u001b[39m,\n",
              "  \u001b[32m\"then\"\u001b[39m,\n",
              "  \u001b[32m\"Tipperary\"\u001b[39m,\n",
              "  \u001b[32m\"to\"\u001b[39m\n",
              ")"
            ]
          },
          "metadata": {}
        }
      ],
      "execution_count": 15,
      "metadata": {
        "collapsed": false,
        "jupyter": {
          "source_hidden": false,
          "outputs_hidden": false
        },
        "nteract": {
          "transient": {
            "deleting": false
          }
        }
      }
    }
  ],
  "metadata": {
    "kernel_info": {
      "name": "python2"
    },
    "kernelspec": {
      "display_name": "Python 3",
      "language": "python",
      "name": "python3"
    },
    "language_info": {
      "name": "scala",
      "version": "2.12.10",
      "mimetype": "text/x-scala",
      "file_extension": ".scala",
      "nbconvert_exporter": "script",
      "codemirror_mode": "text/x-scala"
    },
    "nteract": {
      "version": "0.21.0"
    }
  },
  "nbformat": 4,
  "nbformat_minor": 1
}