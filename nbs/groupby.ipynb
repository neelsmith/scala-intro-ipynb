{
 "cells": [
  {
   "cell_type": "markdown",
   "metadata": {},
   "source": [
    "# Grouping the content of Vectors\n",
    "\n",
    "## Before reading this\n",
    "\n",
    "You should work through these notebooks on [named expressions and methods](named-expressions.ipynb), [Vectors](vectors.ipynb) and [Maps](maps.ipynb).\n",
    "\n",
    "\n",
    "## A sample problem, and approach to a solution\n",
    "\n",
    "We want to group together words in a text beginning with the same letter, and count how many words in the text begin with each letter.\n",
    "\n",
    "One definition of \"word\" could be units separated by white space.  We can easily create a collection of words in this sense by applying the `split` method on a String.\n",
    "\n",
    "If we group all the occurrences of the same word together in a collection, we can count the occurrences in each collection, and sort the results alphabetically.\n",
    "\n",
    "We'll test this out on the copy of [Lincoln's Gettysburg Address now in the White House and formerly in the possession of Colonel Alexander Bliss](http://www.abrahamlincolnonline.org/lincoln/speeches/gettysburg.htm)."
   ]
  },
  {
   "cell_type": "code",
   "execution_count": null,
   "metadata": {
    "inputHidden": false,
    "outputHidden": false
   },
   "outputs": [],
   "source": [
    "val blissCopy = \"\"\"Four score and seven years ago our fathers brought forth on this continent, a new nation, conceived in Liberty, and dedicated to the proposition that all men are created equal.\n",
    "\n",
    "Now we are engaged in a great civil war, testing whether that nation, or any nation so conceived and so dedicated, can long endure. We are met on a great battle-field of that war. We have come to dedicate a portion of that field, as a final resting place for those who here gave their lives that that nation might live. It is altogether fitting and proper that we should do this.\n",
    "\n",
    "But, in a larger sense, we can not dedicate -- we can not consecrate -- we can not hallow -- this ground. The brave men, living and dead, who struggled here, have consecrated it, far above our poor power to add or detract. The world will little note, nor long remember what we say here, but it can never forget what they did here. It is for us the living, rather, to be dedicated here to the unfinished work which they who fought here have thus far so nobly advanced. It is rather for us to be here dedicated to the great task remaining before us -- that from these honored dead we take increased devotion to that cause for which they gave the last full measure of devotion -- that we here highly resolve that these dead shall not have died in vain -- that this nation, under God, shall have a new birth of freedom -- and that government of the people, by the people, for the people, shall not perish from the earth.\n",
    "\n",
    "\"\"\""
   ]
  },
  {
   "cell_type": "markdown",
   "metadata": {},
   "source": [
    "The `split` method creates an Array;  we'll convert this to a more convenient Vector."
   ]
  },
  {
   "cell_type": "code",
   "execution_count": null,
   "metadata": {
    "inputHidden": false,
    "outputHidden": false
   },
   "outputs": [],
   "source": [
    "val words = blissCopy.split(\" \").toVector"
   ]
  },
  {
   "cell_type": "markdown",
   "metadata": {},
   "source": [
    "Strings are actually just Vectors of Characters, so we can use the `head` method to identify the first letter of a String, as in this example."
   ]
  },
  {
   "cell_type": "code",
   "execution_count": null,
   "metadata": {},
   "outputs": [],
   "source": [
    "\"Gettysburg Address\".head"
   ]
  },
  {
   "cell_type": "markdown",
   "metadata": {},
   "source": [
    "The Vector class has a method called `groupBy` that creates a Map.  The keys to the Map are the units you group things by;  the values associated with each key are Vectors with one or more elements of the original Vector.\n",
    "\n",
    "The syntax looks a lot like the syntax you know for `filter` and `map` methods on Vectors. On the left of the fat arrow, we supply a name that will be used for every element in the Vector.  On the right of the fat arrow, we define an expression that will be used to group elements together.  Here, we're grouping every word in the Vector by its first letter (`wrd.head`)."
   ]
  },
  {
   "cell_type": "code",
   "execution_count": null,
   "metadata": {
    "inputHidden": false,
    "outputHidden": false
   },
   "outputs": [],
   "source": [
    "val groupedByLetter = words.groupBy( wrd => wrd.head)\n",
    "\n"
   ]
  },
  {
   "cell_type": "markdown",
   "metadata": {},
   "source": [
    "As you can see, the result is a Map: its keys are Chars; its values are Vectors of Strings.  Chars are single characters.  We can express character values between single quotes. (Note the difference from Strings, that we can express between double quotes.)\n",
    "\n",
    "We can use normal Map notation to see what words begin with `'s'`, for example:"
   ]
  },
  {
   "cell_type": "code",
   "execution_count": null,
   "metadata": {
    "inputHidden": false,
    "outputHidden": false
   },
   "outputs": [],
   "source": [
    "groupedByLetter('s')\n"
   ]
  },
  {
   "cell_type": "markdown",
   "metadata": {},
   "source": [
    "To find out how many words occur for each letter, we only need to find the size of the Vector associated with each key.  We can map each key / value pair to a pairing of the key with the vector's size."
   ]
  },
  {
   "cell_type": "code",
   "execution_count": null,
   "metadata": {
    "inputHidden": false,
    "outputHidden": false
   },
   "outputs": [],
   "source": [
    "val groupedByCount = groupedByLetter.map{ case (k,v) => (k, v.size) }"
   ]
  },
  {
   "cell_type": "markdown",
   "metadata": {},
   "source": [
    "The result is now a Map of characters to integers:  the number of words occurring for each letter.\n",
    "\n",
    "We would like to be able to sort the results easily, but Maps are unordered.  One step will convert the Map to a Vector."
   ]
  },
  {
   "cell_type": "code",
   "execution_count": null,
   "metadata": {},
   "outputs": [],
   "source": [
    "val letterCounts = groupedByCount.toVector"
   ]
  },
  {
   "cell_type": "markdown",
   "metadata": {},
   "source": [
    "We have turned the Map into a Vector of tuples.  Each tuple groups a character and an integer.\n",
    "\n",
    "Let's sort the Vector by the first component of the tuple."
   ]
  },
  {
   "cell_type": "code",
   "execution_count": null,
   "metadata": {},
   "outputs": [],
   "source": [
    "val alphabetic = letterCounts.sortBy(  tupl => tupl._1)"
   ]
  },
  {
   "cell_type": "markdown",
   "metadata": {},
   "source": [
    "Obviously we could equally easily sort by the count.  If we want to sort from most frequent to least frequent, we can reverse the default sorting from least to greatest."
   ]
  },
  {
   "cell_type": "code",
   "execution_count": null,
   "metadata": {},
   "outputs": [],
   "source": [
    "val numericDescending = letterCounts.sortBy( tupl => tupl._2).reverse"
   ]
  },
  {
   "cell_type": "markdown",
   "metadata": {},
   "source": [
    "`'t'`, '`a`' and `'w'` are the only letters that begin more than 20 words of the Gettsburg Address."
   ]
  },
  {
   "cell_type": "markdown",
   "metadata": {},
   "source": [
    "## Summary\n",
    "\n",
    "- The `groupBy` method of the Vector class creates a Map using expressions you define as the key; its associated value is a Vector of elements from the original Vector.\n",
    "- We transformed each map value's Vector to its size using the Map class' `map` method.\n",
    "- To simplify sorting, we converted the final Map to a Vector."
   ]
  }
 ],
 "metadata": {
  "kernel_info": {
   "name": "scala212"
  },
  "kernelspec": {
   "display_name": "Scala (2.12)",
   "language": "scala",
   "name": "scala212"
  },
  "language_info": {
   "codemirror_mode": "text/x-scala",
   "file_extension": ".scala",
   "mimetype": "text/x-scala",
   "name": "scala",
   "nbconvert_exporter": "script",
   "version": "2.12.10"
  },
  "nteract": {
   "version": "0.15.0"
  }
 },
 "nbformat": 4,
 "nbformat_minor": 2
}
