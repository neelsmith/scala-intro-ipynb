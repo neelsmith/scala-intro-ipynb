{
 "cells": [
  {
   "cell_type": "markdown",
   "metadata": {},
   "source": [
    "# Maps in Scala\n",
    "\n",
    "## Before reading this\n",
    "\n",
    "You should work through [this notebook on named expressions and methods](named-expressions.ipynb), and [this notebook on sets](sets.ipynb).\n",
    "\n",
    "\n"
   ]
  },
  {
   "cell_type": "markdown",
   "metadata": {
    "nteract": {
     "transient": {
      "deleting": false
     }
    }
   },
   "source": [
    "## Maps\n",
    "\n",
    "Maps associate a set of *keys* with *values*."
   ]
  },
  {
   "cell_type": "code",
   "execution_count": 3,
   "metadata": {
    "inputHidden": false,
    "outputHidden": false
   },
   "outputs": [
    {
     "data": {
      "text/plain": [
       "\u001b[36mmetalsForDenominations\u001b[39m: \u001b[32mMap\u001b[39m[\u001b[32mString\u001b[39m, \u001b[32mString\u001b[39m] = \u001b[33mMap\u001b[39m(\n",
       "  \u001b[32m\"quadrans\"\u001b[39m -> \u001b[32m\"copper\"\u001b[39m,\n",
       "  \u001b[32m\"denarius\"\u001b[39m -> \u001b[32m\"silver\"\u001b[39m,\n",
       "  \u001b[32m\"as\"\u001b[39m -> \u001b[32m\"copper\"\u001b[39m,\n",
       "  \u001b[32m\"semis\"\u001b[39m -> \u001b[32m\"copper\"\u001b[39m,\n",
       "  \u001b[32m\"aureus\"\u001b[39m -> \u001b[32m\"gold\"\u001b[39m,\n",
       "  \u001b[32m\"sestertius\"\u001b[39m -> \u001b[32m\"orichalcum\"\u001b[39m\n",
       ")"
      ]
     },
     "execution_count": 3,
     "metadata": {},
     "output_type": "execute_result"
    }
   ],
   "source": [
    "val metalsForDenominations = Map(\n",
    "  \"aureus\" -> \"gold\",\n",
    "  \"denarius\" -> \"silver\",\n",
    "  \"sestertius\" -> \"orichalcum\",\n",
    "  \"as\" -> \"copper\",\n",
    "  \"semis\" -> \"copper\",\n",
    "  \"quadrans\" -> \"copper\"\n",
    ")"
   ]
  },
  {
   "cell_type": "code",
   "execution_count": 13,
   "metadata": {},
   "outputs": [
    {
     "data": {
      "text/plain": [
       "\u001b[36mvalueInAsses\u001b[39m: \u001b[32mMap\u001b[39m[\u001b[32mString\u001b[39m, \u001b[32mDouble\u001b[39m] = \u001b[33mMap\u001b[39m(\n",
       "  \u001b[32m\"quadrans\"\u001b[39m -> \u001b[32m0.25\u001b[39m,\n",
       "  \u001b[32m\"denarius\"\u001b[39m -> \u001b[32m10.0\u001b[39m,\n",
       "  \u001b[32m\"as\"\u001b[39m -> \u001b[32m1.0\u001b[39m,\n",
       "  \u001b[32m\"semis\"\u001b[39m -> \u001b[32m0.5\u001b[39m,\n",
       "  \u001b[32m\"aureus\"\u001b[39m -> \u001b[32m250.0\u001b[39m,\n",
       "  \u001b[32m\"dupondius\"\u001b[39m -> \u001b[32m2.0\u001b[39m,\n",
       "  \u001b[32m\"sestertius\"\u001b[39m -> \u001b[32m2.5\u001b[39m\n",
       ")"
      ]
     },
     "execution_count": 13,
     "metadata": {},
     "output_type": "execute_result"
    }
   ],
   "source": [
    "val valueInAsses = Map(\n",
    "  \"aureus\" -> 250.0,\n",
    "  \"denarius\" ->  10.0,\n",
    "  \"sestertius\" -> 2.5,\n",
    "  \"dupondius\" -> 2.0,\n",
    "  \"as\" -> 1.0,\n",
    "  \"semis\"-> 0.5,\n",
    "  \"quadrans\" -> 0.25\n",
    ")\n"
   ]
  },
  {
   "cell_type": "markdown",
   "metadata": {},
   "source": [
    "## Lookup values in a map\n"
   ]
  },
  {
   "cell_type": "code",
   "execution_count": 7,
   "metadata": {},
   "outputs": [
    {
     "data": {
      "text/plain": [
       "\u001b[36mres6_0\u001b[39m: \u001b[32mString\u001b[39m = \u001b[32m\"orichalcum\"\u001b[39m\n",
       "\u001b[36mres6_1\u001b[39m: \u001b[32mAnyVal\u001b[39m = \u001b[32m2.5\u001b[39m"
      ]
     },
     "execution_count": 7,
     "metadata": {},
     "output_type": "execute_result"
    }
   ],
   "source": [
    "// metal for denomination:\n",
    "metalsForDenominations(\"sestertius\")\n",
    "valueInAsses(\"sestertius\")"
   ]
  },
  {
   "cell_type": "markdown",
   "metadata": {},
   "source": [
    "## Get keyset or values for a map\n"
   ]
  },
  {
   "cell_type": "code",
   "execution_count": 12,
   "metadata": {},
   "outputs": [
    {
     "data": {
      "text/plain": [
       "\u001b[36mres11\u001b[39m: \u001b[32mInt\u001b[39m = \u001b[32m4\u001b[39m"
      ]
     },
     "execution_count": 12,
     "metadata": {},
     "output_type": "execute_result"
    }
   ],
   "source": [
    "metalsForDenominations.values.toVector.distinct.size"
   ]
  },
  {
   "cell_type": "markdown",
   "metadata": {},
   "source": [
    "## Querying and  transforming maps\n",
    "\n",
    "Analogies to Vectors:\n",
    "\n",
    "- `filterKey` method\n",
    "- `mapValue` method\n",
    "\n"
   ]
  },
  {
   "cell_type": "code",
   "execution_count": 14,
   "metadata": {},
   "outputs": [
    {
     "data": {
      "text/plain": [
       "\u001b[36mvalueInDenarii\u001b[39m: \u001b[32mMap\u001b[39m[\u001b[32mString\u001b[39m, \u001b[32mDouble\u001b[39m] = \u001b[33mMap\u001b[39m(\n",
       "  \u001b[32m\"quadrans\"\u001b[39m -> \u001b[32m2.5\u001b[39m,\n",
       "  \u001b[32m\"denarius\"\u001b[39m -> \u001b[32m100.0\u001b[39m,\n",
       "  \u001b[32m\"as\"\u001b[39m -> \u001b[32m10.0\u001b[39m,\n",
       "  \u001b[32m\"semis\"\u001b[39m -> \u001b[32m5.0\u001b[39m,\n",
       "  \u001b[32m\"aureus\"\u001b[39m -> \u001b[32m2500.0\u001b[39m,\n",
       "  \u001b[32m\"dupondius\"\u001b[39m -> \u001b[32m20.0\u001b[39m,\n",
       "  \u001b[32m\"sestertius\"\u001b[39m -> \u001b[32m25.0\u001b[39m\n",
       ")"
      ]
     },
     "execution_count": 14,
     "metadata": {},
     "output_type": "execute_result"
    }
   ],
   "source": [
    "val valueInDenarii = valueInAsses.mapValues(a => a*10)"
   ]
  },
  {
   "cell_type": "markdown",
   "metadata": {},
   "source": [
    "## Summary\n"
   ]
  }
 ],
 "metadata": {
  "kernel_info": {
   "name": "scala212"
  },
  "kernelspec": {
   "display_name": "Scala (2.12)",
   "language": "scala",
   "name": "scala212"
  },
  "language_info": {
   "codemirror_mode": "text/x-scala",
   "file_extension": ".scala",
   "mimetype": "text/x-scala",
   "name": "scala",
   "nbconvert_exporter": "script",
   "version": "2.12.10"
  },
  "nteract": {
   "version": "0.21.0"
  }
 },
 "nbformat": 4,
 "nbformat_minor": 2
}
