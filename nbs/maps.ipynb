{
 "cells": [
  {
   "cell_type": "markdown",
   "metadata": {},
   "source": [
    "# Maps in Scala\n",
    "\n",
    "## Before reading this\n",
    "\n",
    "You should work through [this notebook on named expressions and methods](named-expressions.ipynb), [this notebook on Sets](sets.ipynb), and [this notebook on Vectors](vectors.ipynb).\n",
    "\n",
    "\n"
   ]
  },
  {
   "cell_type": "markdown",
   "metadata": {
    "nteract": {
     "transient": {
      "deleting": false
     }
    }
   },
   "source": [
    "## Maps\n",
    "\n",
    "Maps associate a set of *keys* with *values*. Like other Scala collections, you can define a Map by listing its element between parentheses.  Unlike Vectors or Sets, however, Maps do not contain a single value:  they contain pairings of keys and values, separated by a right arrow.\n",
    "\n",
    "The example in the next cell defines a Map of Roman coin denominations (the keys) to metals (the values)."
   ]
  },
  {
   "cell_type": "code",
   "execution_count": null,
   "metadata": {
    "inputHidden": false,
    "outputHidden": false
   },
   "outputs": [],
   "source": [
    "val metalsForDenominations = Map(\n",
    "  \"aureus\" -> \"gold\",\n",
    "  \"denarius\" -> \"silver\",\n",
    "  \"sestertius\" -> \"orichalcum\",\n",
    "  \"as\" -> \"copper\",\n",
    "  \"semis\" -> \"copper\",\n",
    "  \"quadrans\" -> \"copper\"\n",
    ")"
   ]
  },
  {
   "cell_type": "markdown",
   "metadata": {},
   "source": [
    "Notice that the output display shows us the type of both the keys and values in our map.  `metalsForDenominations` is a Map from a String key to a String value.\n",
    "\n",
    "Maps can work with any type of data.  The following cell defines a Map giving the relative value of Roman coin denomination in terms of the base denomination, the bronze \"As\".  Find the type of the keys and values for this map."
   ]
  },
  {
   "cell_type": "code",
   "execution_count": null,
   "metadata": {},
   "outputs": [],
   "source": [
    "val valueInAsses = Map(\n",
    "  \"aureus\" -> 250.0,\n",
    "  \"denarius\" ->  10.0,\n",
    "  \"sestertius\" -> 2.5,\n",
    "  \"dupondius\" -> 2.0,\n",
    "  \"as\" -> 1.0,\n",
    "  \"semis\"-> 0.5,\n",
    "  \"quadrans\" -> 0.25\n",
    ")\n"
   ]
  },
  {
   "cell_type": "markdown",
   "metadata": {},
   "source": [
    "## Gathering the contents of a Map\n",
    "\n",
    "\n",
    "Keys in Map must be unique, so we can gather together all of a Map's keys in a Set using the `keySet` method.  Notice that the result here is a Set of Strings."
   ]
  },
  {
   "cell_type": "code",
   "execution_count": null,
   "metadata": {},
   "outputs": [],
   "source": [
    "metalsForDenominations.keySet"
   ]
  },
  {
   "cell_type": "markdown",
   "metadata": {},
   "source": [
    "Of course we can then use that like any other Set.  Did we leave out any values for all the denominations in our map of metals?"
   ]
  },
  {
   "cell_type": "code",
   "execution_count": null,
   "metadata": {},
   "outputs": [],
   "source": [
    "valueInAsses.keySet diff metalsForDenominations.keySet\n"
   ]
  },
  {
   "cell_type": "markdown",
   "metadata": {},
   "source": [
    "## Lookup values in a map\n",
    "\n",
    "You can retrieve the value for a key by using the key in parentheses."
   ]
  },
  {
   "cell_type": "code",
   "execution_count": null,
   "metadata": {},
   "outputs": [],
   "source": [
    "// metal for denomination:\n",
    "metalsForDenominations(\"sestertius\")\n",
    "valueInAsses(\"sestertius\")"
   ]
  },
  {
   "cell_type": "markdown",
   "metadata": {},
   "source": [
    "This works fine if you're sure you're using a correct key (for example, if you retrieved it using the `keySet` method).  But you will get a horrible error if you use an invalid key.  Uncomment the following line (by removing the `//`) and then run the following cell."
   ]
  },
  {
   "cell_type": "code",
   "execution_count": null,
   "metadata": {},
   "outputs": [],
   "source": [
    "//metalsForDenominations(\"speling error\")"
   ]
  },
  {
   "cell_type": "markdown",
   "metadata": {},
   "source": [
    "## Using `Option`s to  look up values safely\n",
    "\n",
    "To retrieve values from a Map safely, you can use the `get` method."
   ]
  },
  {
   "cell_type": "code",
   "execution_count": null,
   "metadata": {},
   "outputs": [],
   "source": [
    "val metalOption = metalsForDenominations.get(\"sestertius\")\n"
   ]
  },
  {
   "cell_type": "markdown",
   "metadata": {},
   "source": [
    "Notice the type of this result: it's not a String, but an `Option[String]`.  We'll post a later notebook on Scala `Option`s, but here are enough crucial points to use this result.\n",
    "\n",
    "- the `Option` class has only two possible values, `None` or `Some` containing some value\n",
    "- you can get the value out of a `Some` using the `get` method of the `Option` class\n",
    "- you can test an `Option` using a `match` test\n",
    "\n",
    "Consider the following example that illustrates this."
   ]
  },
  {
   "cell_type": "code",
   "execution_count": null,
   "metadata": {},
   "outputs": [],
   "source": [
    "metalOption match {\n",
    "  case None => \"Couldn't find a metal!\"\n",
    "  case s: Some[String] => s.get\n",
    "}"
   ]
  },
  {
   "cell_type": "markdown",
   "metadata": {},
   "source": [
    "## Querying maps\n",
    "\n",
    "Like Vectors, Maps have a `filter` method you can use to query the contents.\n",
    "\n",
    "With Vectors, we tested some condition on each element of the Vector, and kept only those that passed the test.  With Maps, we will define a test on each key / value pair.  This requires a slightly different syntax, using the Scala reserved word `case`.\n"
   ]
  },
  {
   "cell_type": "code",
   "execution_count": null,
   "metadata": {},
   "outputs": [],
   "source": [
    "val prettyDenominations = metalsForDenominations.filter{ case (k,v) => v == \"gold\"}\n",
    "val expensiveDenominations = valueInAsses.filter{ case (k,v) => v >= 10 }"
   ]
  },
  {
   "cell_type": "markdown",
   "metadata": {},
   "source": [
    "## Transforming maps\n",
    "\n",
    "Yes, there is a `map` method on the Map class!  As with Vectors, we can use `map` to transform every element in our collection to a new element.  As with `filter`, we can use the `case` keyword to define how we want to transform a key / value pair.  \n",
    "\n",
    "In the following example, we transform our map of Roman coin values expressed in terms of the As to a map of coin values expressed in terms of the denarius.  The As is worth one tenth of a denarius, so if we divide every value in our valueInAsses map by 10, we'll have the corresponding value in denarii."
   ]
  },
  {
   "cell_type": "code",
   "execution_count": null,
   "metadata": {},
   "outputs": [],
   "source": [
    "val valueInDenarii = valueInAsses.map{ case (k, v) => (k, v / 10) }"
   ]
  },
  {
   "cell_type": "markdown",
   "metadata": {},
   "source": [
    "## Summary\n",
    "\n",
    "- *Maps* are collections of pairings of keys with values.\n",
    "- Confidently look up a value for a key using the key in parentheses.\n",
    "- Carefully look up a value for a key using `get`.\n",
    "- Get all keys in a map with `keySet`\n",
    "- As with Vectors, use `filter` to query a Map\n",
    "- As with Vectors, use `map` to transform all the entries in a Map"
   ]
  }
 ],
 "metadata": {
  "kernel_info": {
   "name": "scala212"
  },
  "kernelspec": {
   "display_name": "Scala (2.12)",
   "language": "scala",
   "name": "scala212"
  },
  "language_info": {
   "codemirror_mode": "text/x-scala",
   "file_extension": ".scala",
   "mimetype": "text/x-scala",
   "name": "scala",
   "nbconvert_exporter": "script",
   "version": "2.12.10"
  },
  "nteract": {
   "version": "0.21.0"
  }
 },
 "nbformat": 4,
 "nbformat_minor": 2
}
