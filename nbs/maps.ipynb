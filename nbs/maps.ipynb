{
 "cells": [
  {
   "cell_type": "markdown",
   "metadata": {},
   "source": [
    "# Sets in Scala\n",
    "\n",
    "## Before reading this\n",
    "\n",
    "You should work through [this notebook on named expressions and methods](named-expressions.ipynb).\n",
    "\n",
    "\n"
   ]
  },
  {
   "cell_type": "markdown",
   "metadata": {
    "nteract": {
     "transient": {
      "deleting": false
     }
    }
   },
   "source": [
    "## Sets\n",
    "\n",
    "Sets are unordered collections of unique values."
   ]
  },
  {
   "cell_type": "code",
   "execution_count": 1,
   "metadata": {
    "inputHidden": false,
    "outputHidden": false
   },
   "outputs": [
    {
     "data": {
      "text/plain": [
       "\u001b[36maugustanDenominations\u001b[39m: \u001b[32mSet\u001b[39m[\u001b[32mString\u001b[39m] = \u001b[33mSet\u001b[39m(\n",
       "  \u001b[32m\"quadrans\"\u001b[39m,\n",
       "  \u001b[32m\"denarius\"\u001b[39m,\n",
       "  \u001b[32m\"as\"\u001b[39m,\n",
       "  \u001b[32m\"semis\"\u001b[39m,\n",
       "  \u001b[32m\"aureus\"\u001b[39m,\n",
       "  \u001b[32m\"dupondius\"\u001b[39m,\n",
       "  \u001b[32m\"sestertius\"\u001b[39m\n",
       ")\n",
       "\u001b[36mmetals\u001b[39m: \u001b[32mSet\u001b[39m[\u001b[32mString\u001b[39m] = \u001b[33mSet\u001b[39m(\u001b[32m\"gold\"\u001b[39m, \u001b[32m\"silver\"\u001b[39m, \u001b[32m\"orichalcum\"\u001b[39m, \u001b[32m\"copper\"\u001b[39m)"
      ]
     },
     "execution_count": 1,
     "metadata": {},
     "output_type": "execute_result"
    }
   ],
   "source": [
    "val augustanDenominations = Set(\"aureus\", \n",
    "                   \"denarius\", \n",
    "                   \"sestertius\", \n",
    "                   \"dupondius\", \n",
    "                   \"as\", \n",
    "                   \"semis\",\n",
    "                  \"quadrans\")\n",
    "\n",
    "\n",
    "\n",
    "val metals = Set(\"gold\", \"silver\", \"orichalcum\", \"copper\")"
   ]
  },
  {
   "cell_type": "markdown",
   "metadata": {},
   "source": [
    "Set of denominations listed in this illustration on wikipedia:\n",
    "\n",
    "<img src=\"https://upload.wikimedia.org/wikipedia/commons/3/34/Common_Roman_Coins.jpg\" width=\"400\"/>\n"
   ]
  },
  {
   "cell_type": "code",
   "execution_count": 2,
   "metadata": {},
   "outputs": [
    {
     "data": {
      "text/plain": [
       "\u001b[36mwikipediaDenominations\u001b[39m: \u001b[32mSet\u001b[39m[\u001b[32mString\u001b[39m] = \u001b[33mSet\u001b[39m(\n",
       "  \u001b[32m\"AE3\"\u001b[39m,\n",
       "  \u001b[32m\"follis\"\u001b[39m,\n",
       "  \u001b[32m\"denarius\"\u001b[39m,\n",
       "  \u001b[32m\"AE4\"\u001b[39m,\n",
       "  \u001b[32m\"as\"\u001b[39m,\n",
       "  \u001b[32m\"aureus\"\u001b[39m,\n",
       "  \u001b[32m\"siliqua\"\u001b[39m,\n",
       "  \u001b[32m\"tremissis\"\u001b[39m,\n",
       "  \u001b[32m\"sesterius\"\u001b[39m,\n",
       "  \u001b[32m\"dupondius\"\u001b[39m,\n",
       "  \u001b[32m\"antoninianus\"\u001b[39m,\n",
       "  \u001b[32m\"solidus\"\u001b[39m\n",
       ")"
      ]
     },
     "execution_count": 2,
     "metadata": {},
     "output_type": "execute_result"
    }
   ],
   "source": [
    "val wikipediaDenominations =  Set(\n",
    "  \"aureus\", \"solidus\", \"AE3\", \"AE4\", \n",
    "  \"denarius\", \"tremissis\", \n",
    "  \"antoninianus\", \"siliqua\", \"sesterius\",\n",
    "  \"as\", \"follis\", \"dupondius\"\n",
    ")"
   ]
  },
  {
   "cell_type": "markdown",
   "metadata": {},
   "source": [
    "Set operations:\n",
    "\n",
    "- union\n",
    "- intersect\n",
    "- difference"
   ]
  },
  {
   "cell_type": "code",
   "execution_count": 4,
   "metadata": {},
   "outputs": [
    {
     "data": {
      "text/plain": [
       "\u001b[36mres3_0\u001b[39m: \u001b[32mSet\u001b[39m[\u001b[32mString\u001b[39m] = \u001b[33mSet\u001b[39m(\u001b[32m\"quadrans\"\u001b[39m, \u001b[32m\"semis\"\u001b[39m, \u001b[32m\"sestertius\"\u001b[39m)\n",
       "\u001b[36mres3_1\u001b[39m: \u001b[32mSet\u001b[39m[\u001b[32mString\u001b[39m] = \u001b[33mSet\u001b[39m(\n",
       "  \u001b[32m\"AE3\"\u001b[39m,\n",
       "  \u001b[32m\"follis\"\u001b[39m,\n",
       "  \u001b[32m\"AE4\"\u001b[39m,\n",
       "  \u001b[32m\"siliqua\"\u001b[39m,\n",
       "  \u001b[32m\"tremissis\"\u001b[39m,\n",
       "  \u001b[32m\"sesterius\"\u001b[39m,\n",
       "  \u001b[32m\"antoninianus\"\u001b[39m,\n",
       "  \u001b[32m\"solidus\"\u001b[39m\n",
       ")"
      ]
     },
     "execution_count": 4,
     "metadata": {},
     "output_type": "execute_result"
    }
   ],
   "source": [
    "augustanDenominations.diff(wikipediaDenominations)\n",
    "wikipediaDenominations.diff(augustanDenominations)"
   ]
  },
  {
   "cell_type": "code",
   "execution_count": 5,
   "metadata": {},
   "outputs": [
    {
     "data": {
      "text/plain": [
       "\u001b[36mres4\u001b[39m: \u001b[32mSet\u001b[39m[\u001b[32mString\u001b[39m] = \u001b[33mSet\u001b[39m(\n",
       "  \u001b[32m\"quadrans\"\u001b[39m,\n",
       "  \u001b[32m\"AE3\"\u001b[39m,\n",
       "  \u001b[32m\"follis\"\u001b[39m,\n",
       "  \u001b[32m\"denarius\"\u001b[39m,\n",
       "  \u001b[32m\"AE4\"\u001b[39m,\n",
       "  \u001b[32m\"as\"\u001b[39m,\n",
       "  \u001b[32m\"semis\"\u001b[39m,\n",
       "  \u001b[32m\"aureus\"\u001b[39m,\n",
       "  \u001b[32m\"siliqua\"\u001b[39m,\n",
       "  \u001b[32m\"tremissis\"\u001b[39m,\n",
       "  \u001b[32m\"sesterius\"\u001b[39m,\n",
       "  \u001b[32m\"dupondius\"\u001b[39m,\n",
       "  \u001b[32m\"antoninianus\"\u001b[39m,\n",
       "  \u001b[32m\"sestertius\"\u001b[39m,\n",
       "  \u001b[32m\"solidus\"\u001b[39m\n",
       ")"
      ]
     },
     "execution_count": 5,
     "metadata": {},
     "output_type": "execute_result"
    }
   ],
   "source": [
    "augustanDenominations union wikipediaDenominations"
   ]
  },
  {
   "cell_type": "markdown",
   "metadata": {},
   "source": [
    "1 aureus = 25 denarii = 100 sestertii = 400 asses."
   ]
  },
  {
   "cell_type": "code",
   "execution_count": null,
   "metadata": {
    "inputHidden": false,
    "outputHidden": false
   },
   "outputs": [],
   "source": [
    "val augustanMetalsForDenominations = Map(\n",
    "  \"aureus\" -> \"gold\",\n",
    "  \"denarius\" -> \"silver\",\n",
    "  \"sestertius\" -> \"orichalcum\",\n",
    "  \"as\" -> \"copper\",\n",
    "  \"semis\" -> \"copper\",\n",
    "  \"quadrans\" -> \"copper\"\n",
    ")"
   ]
  },
  {
   "cell_type": "markdown",
   "metadata": {},
   "source": [
    "## Summary\n"
   ]
  }
 ],
 "metadata": {
  "kernel_info": {
   "name": "scala212"
  },
  "kernelspec": {
   "display_name": "Scala (2.12)",
   "language": "scala",
   "name": "scala212"
  },
  "language_info": {
   "codemirror_mode": "text/x-scala",
   "file_extension": ".scala",
   "mimetype": "text/x-scala",
   "name": "scala",
   "nbconvert_exporter": "script",
   "version": "2.12.10"
  },
  "nteract": {
   "version": "0.21.0"
  }
 },
 "nbformat": 4,
 "nbformat_minor": 2
}
