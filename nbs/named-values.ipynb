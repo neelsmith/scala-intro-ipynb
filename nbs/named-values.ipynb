{
  "cells": [
    {
      "cell_type": "markdown",
      "source": [
        "# Expressions and named values\n",
        "\n",
        "An *expression* is a statement that Scala can compute. The following cell includes an expression, `\"Iliad\"`.  If you run that cell, you will see that Scala displays a *type* for the expression (here, `String`), and the result of computing the expression (here, `\"Iliad\"`)."
      ],
      "metadata": {}
    },
    {
      "cell_type": "code",
      "source": [
        "\"Iliad\""
      ],
      "outputs": [],
      "execution_count": null,
      "metadata": {
        "collapsed": false,
        "outputHidden": false,
        "inputHidden": false
      }
    },
    {
      "cell_type": "markdown",
      "source": [
        "You can use the keyword `val` to name and easily reuse a computed expression.  When you run the following cell, you'll see a very similar display:  a type (`String`), and the result of the expression (`\"Iliad\"`), but this time you'll notice that that type and result are preceded by the name, `epic`."
      ],
      "metadata": {}
    },
    {
      "cell_type": "code",
      "source": [
        "val epic = \"Iliad\""
      ],
      "outputs": [],
      "execution_count": null,
      "metadata": {
        "collapsed": false,
        "outputHidden": false,
        "inputHidden": false
      }
    },
    {
      "cell_type": "code",
      "source": [
        "Now"
      ],
      "outputs": [],
      "execution_count": null,
      "metadata": {
        "collapsed": false,
        "outputHidden": false,
        "inputHidden": false
      }
    }
  ],
  "metadata": {
    "kernelspec": {
      "name": "scala212",
      "language": "scala",
      "display_name": "Scala212 (almond)"
    },
    "language_info": {
      "name": "scala",
      "version": "2.12.10",
      "mimetype": "text/x-scala",
      "file_extension": ".scala",
      "nbconvert_exporter": "script",
      "codemirror_mode": "text/x-scala"
    },
    "kernel_info": {
      "name": "scala212"
    },
    "nteract": {
      "version": "0.15.0"
    }
  },
  "nbformat": 4,
  "nbformat_minor": 2
}