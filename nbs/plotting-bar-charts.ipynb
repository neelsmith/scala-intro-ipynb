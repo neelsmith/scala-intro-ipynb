{
 "cells": [
  {
   "cell_type": "markdown",
   "metadata": {},
   "source": [
    "# Plotting bar charts\n",
    "\n",
    "A bar chart is a helpful way to visualize counts of items.  This notebook shows you how to plot bar charts using the `plotly` library (supported in the [almond.sh](https://almond.sh/) kernel this Jupyter notebook uses).\n",
    "\n",
    "We'll illustrate this in three steps:\n",
    "\n",
    "\n",
    "1. Configure your Jupyter notebook\n",
    "2. Collect data.  Here, we'll count the frequency of words in Lincoln's Gettysburg Address.\n",
    "3. Plotting the resulting frequency counts"
   ]
  },
  {
   "cell_type": "markdown",
   "metadata": {},
   "source": [
    "## Configure your notebook\n",
    "\n",
    "The next two code code cells make the plotly library available in your notebook, and define default settings for drawing plots in your notebook cells.  For an explanation of using external libraries in a Jupyter notebook, you can see this [notebook on using external libraries](https://mybinder.org/v2/gh/neelsmith/scala-intro-ipynb/master?filepath=nbs%2Fexternal-libraries.ipynb), but if you just want to get started plotting charts of your data, just copy and reproduce these two cells in your own notebook."
   ]
  },
  {
   "cell_type": "code",
   "execution_count": null,
   "metadata": {},
   "outputs": [],
   "source": [
    "// Make plotly libraries available to this notebook:\n",
    "import $ivy.`org.plotly-scala::plotly-almond:0.7.1`"
   ]
  },
  {
   "cell_type": "code",
   "execution_count": null,
   "metadata": {},
   "outputs": [],
   "source": [
    "// Import plotly libraries, and set display defaults suggested for use in Jupyter NBs:\n",
    "import plotly._, plotly.element._, plotly.layout._, plotly.Almond._\n",
    "repl.pprinter() = repl.pprinter().copy(defaultHeight = 3)"
   ]
  },
  {
   "cell_type": "markdown",
   "metadata": {},
   "source": [
    "## Create some data\n",
    "\n",
    "We'll use the `groupBy` method in exactly the same way introduced in [this notebook](https://mybinder.org/v2/gh/neelsmith/scala-intro-ipynb/master?filepath=nbs%2Fgroupby.ipynb) to count the frequency of whitespace-separated \"words\" in a text of Lincoln's Gettsburg Address.\n"
   ]
  },
  {
   "cell_type": "code",
   "execution_count": null,
   "metadata": {},
   "outputs": [],
   "source": [
    "// Start from a single, long String with a text of the Gettysburg Address:\n",
    "val lincoln = \"\"\"Four score and seven years ago our fathers brought forth, on this continent, a new nation, conceived in Liberty, and dedicated to the proposition that all men are created equal.\n",
    "\n",
    "Now we are engaged in a great civil war, testing whether that nation, or any nation so conceived, and so dedicated, can long endure. We are met on a great battle-field of that war. We have come to dedicate a portion of that field, as a final resting-place for those who here gave their lives, that that nation might live. It is altogether fitting and proper that we should do this.\n",
    "\n",
    "But, in a larger sense, we can not dedicate, we can not consecrate we can not hallow this ground. The brave men, living and dead, who struggled here, have consecrated it far above our poor power to add or detract. The world will little note, nor long remember what we say here, but it can never forget what they did here. It is for us the living, rather, to be dedicated here to the unfinished work which they who fought here have thus far so nobly advanced. It is rather for us to be here dedicated to the great task remaining before us that from these honored dead we take increased devotion to that cause for which they here gave the last full measure of devotion - that we here highly resolve that these dead shall not have died in vain that this nation, under God, shall have a new birth of freedom, and that government of the people, by the people, for the people, shall not perish from the earth.\n",
    "\"\"\"\n",
    "\n",
    "// split text into \"words\", and group words together\n",
    "val words = lincoln.split(\" \").toVector\n",
    "val groupedWords = words.groupBy( word => word)\n",
    "// transform the resulting map to give us the number of times\n",
    "// a word occurs:\n",
    "val countsMap = groupedWords.map{case (k,v) => (k,v.size)}\n",
    "// In order to sort these results, convert to a Vector of tuples, and sort\n",
    "// the Vector by the second, numeric part of the tuple\n",
    "val countsVector = countsMap.toVector.sortBy( freq => freq._2).reverse\n"
   ]
  },
  {
   "cell_type": "markdown",
   "metadata": {},
   "source": [
    "## Plot a bar chart\n",
    "\n",
    "You can plot a chart by supplying a Vector of values for the x and y axes.  In the previous cell, we created a Vector of tuples pairing a word with a count of how often it appears.  We'll use the the first element of each pair (the word) for the x axis, and the second element (the count) as the y axis.  \n",
    "\n",
    "You can see the syntax plotly expects in the following cell.  We create a Vector containing a single `Bar` item.  (If you wanted to plot parallel series of bars, you could add additional `Bar` items to the Vector. )  The `Bar` object has two parameters where we identify the Vector of values to use for the x and for the y axis.  Finally, we use plotly's `plot` method to draw the plot in your cell's output.\n",
    "\n",
    "> *In case you were wondering...*: We named the Vector containing the `Bar` object `zipf` because it illustrates a famous linguistic observation known as \"Zipf's Law\".  Zipf's Law says that in a sufficiently long text, the frequency of any word is inversely proportional to its position (or rank) in the word list sorted by  frequency.\n"
   ]
  },
  {
   "cell_type": "code",
   "execution_count": null,
   "metadata": {},
   "outputs": [],
   "source": [
    "val items = countsVector.map(freq => freq._1)\n",
    "val counts = countsVector.map(freq => freq._2)\n",
    "\n",
    "val zipf = Vector(\n",
    "  Bar(x = items, y = counts)\n",
    ")\n",
    "plot(zipf)"
   ]
  }
 ],
 "metadata": {
  "kernelspec": {
   "display_name": "Scala (2.12)",
   "language": "scala",
   "name": "scala212"
  },
  "language_info": {
   "codemirror_mode": "text/x-scala",
   "file_extension": ".scala",
   "mimetype": "text/x-scala",
   "name": "scala",
   "nbconvert_exporter": "script",
   "version": "2.12.10"
  }
 },
 "nbformat": 4,
 "nbformat_minor": 4
}
