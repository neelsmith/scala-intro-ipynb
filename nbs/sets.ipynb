{
  "cells": [
    {
      "cell_type": "markdown",
      "source": [
        "# Sets in Scala\n",
        "\n",
        "## Before reading this\n",
        "\n",
        "You should work through [this notebook on named expressions and methods](named-expressions.ipynb).\n",
        "\n",
        "\n"
      ],
      "metadata": {}
    },
    {
      "cell_type": "markdown",
      "source": [
        "## Sets\n",
        "\n",
        "Sets are unordered collections of unique values."
      ],
      "metadata": {
        "nteract": {
          "transient": {
            "deleting": false
          }
        }
      }
    },
    {
      "cell_type": "code",
      "source": [
        "val denominations = Set(\"aureus\", \"denarius\", \"sestertius\", \"as\")\n"
      ],
      "outputs": [
        {
          "output_type": "execute_result",
          "execution_count": 1,
          "data": {
            "text/plain": [
              "\u001b[36mdenominations\u001b[39m: \u001b[32mSet\u001b[39m[\u001b[32mString\u001b[39m] = \u001b[33mSet\u001b[39m(\u001b[32m\"aureus\"\u001b[39m, \u001b[32m\"denarius\"\u001b[39m, \u001b[32m\"sestertius\"\u001b[39m, \u001b[32m\"as\"\u001b[39m)"
            ]
          },
          "metadata": {}
        }
      ],
      "execution_count": 1,
      "metadata": {
        "collapsed": false,
        "outputHidden": false,
        "inputHidden": false
      }
    },
    {
      "cell_type": "markdown",
      "source": [
        "1 aureus = 25 denarii = 100 sestertii = 400 asses."
      ],
      "metadata": {}
    },
    {
      "cell_type": "code",
      "source": [
        "val firstWord = handTyped(0)\n",
        "val secondWord = handTyped(1)"
      ],
      "outputs": [],
      "execution_count": null,
      "metadata": {
        "collapsed": false,
        "outputHidden": false,
        "inputHidden": false
      }
    },
    {
      "cell_type": "markdown",
      "source": [
        "Many methods produce collections, either Vectors, or other Scala collection types.  The other collection types include a method called `toVector` that converts the collection to a Vector collection.\n",
        "\n",
        "The `split` method of the String class, for example, creates a collection of Strings, using a collection type called an `Array`.  In the following cell, you can see how the `split` method creates a new collection of Strings by splitting up an original string.  We then convert the new collection a Vector."
      ],
      "metadata": {}
    },
    {
      "cell_type": "code",
      "source": [
        "val paine = \"These are the times that try men's souls.\"\n",
        "val wordsArray = paine.split(\" \")\n",
        "val words = wordsArray.toVector\n"
      ],
      "outputs": [],
      "execution_count": null,
      "metadata": {
        "collapsed": false,
        "outputHidden": false,
        "inputHidden": false
      }
    },
    {
      "cell_type": "markdown",
      "source": [
        "The Vector class has many useful methods.  Here are a few that you're likely to reuse frequently.  Run the cell below and figure out what kind of expression each method creates."
      ],
      "metadata": {}
    },
    {
      "cell_type": "code",
      "source": [
        "words.size\n",
        "words.head\n",
        "words.tail\n",
        "words.last\n",
        "words.mkString(\"\\n\")\n"
      ],
      "outputs": [],
      "execution_count": null,
      "metadata": {
        "collapsed": false,
        "outputHidden": false,
        "inputHidden": false
      }
    },
    {
      "cell_type": "markdown",
      "source": [
        "## Querying a collection: `filter`\n"
      ],
      "metadata": {}
    },
    {
      "cell_type": "code",
      "source": [
        "\n",
        "val alliterationVerbose = words.filter( w => w.toLowerCase.startsWith(\"t\"))\n",
        "// same as\n",
        "val alliterationTerse = words.filter(_.toLowerCase.startsWith(\"t\"))\n",
        "\n",
        "\n",
        "\n"
      ],
      "outputs": [],
      "execution_count": null,
      "metadata": {
        "collapsed": false,
        "outputHidden": false,
        "inputHidden": false
      }
    },
    {
      "cell_type": "markdown",
      "source": [
        "## Transforming a collection:  `map`\n"
      ],
      "metadata": {}
    },
    {
      "cell_type": "code",
      "source": [
        "val shoutedVerbose = words.map(w => w.toUpperCase)\n",
        "\n",
        "val shoutedTerse = words.map(_.toUpperCase)"
      ],
      "outputs": [],
      "execution_count": null,
      "metadata": {
        "collapsed": false,
        "outputHidden": false,
        "inputHidden": false
      }
    },
    {
      "cell_type": "code",
      "source": [
        "val wordSizes = words.map( w => (w, w.size) )"
      ],
      "outputs": [],
      "execution_count": null,
      "metadata": {
        "collapsed": false,
        "outputHidden": false,
        "inputHidden": false
      }
    },
    {
      "cell_type": "code",
      "source": [
        "wordSizes.sortBy(_._2).reverse"
      ],
      "outputs": [],
      "execution_count": null,
      "metadata": {
        "collapsed": false,
        "outputHidden": false,
        "inputHidden": false
      }
    },
    {
      "cell_type": "code",
      "source": [
        "\"long\".replaceAll(\"[.,;]\", \"\")"
      ],
      "outputs": [],
      "execution_count": null,
      "metadata": {
        "collapsed": false,
        "outputHidden": false,
        "inputHidden": false
      }
    },
    {
      "cell_type": "markdown",
      "source": [
        "## Summary\n",
        "\n",
        "- *Vectors* are an ordered collection of objects.\n",
        "- The Vector class has many useful methods, such as *size*, *head*, *tail* and *mkString()*.\n",
        "- To \"query\" a Vector, define a condition with the *filter* method.  This will produce a new Vector of the same type.  Its size will be from 0 up to the size of the original Vector.\n",
        "- To create a new Vector with every element *transformed* from the original Vector, use the *map* method. The size of the new Vector will be exactly the same as the original Vector.  The may or may not contain the same kind of elements."
      ],
      "metadata": {}
    }
  ],
  "metadata": {
    "kernel_info": {
      "name": "scala212"
    },
    "kernelspec": {
      "name": "scala212",
      "language": "scala",
      "display_name": "Scala212 (almond)"
    },
    "language_info": {
      "name": "scala",
      "version": "2.12.10",
      "mimetype": "text/x-scala",
      "file_extension": ".scala",
      "nbconvert_exporter": "script",
      "codemirror_mode": "text/x-scala"
    },
    "nteract": {
      "version": "0.21.0"
    }
  },
  "nbformat": 4,
  "nbformat_minor": 2
}