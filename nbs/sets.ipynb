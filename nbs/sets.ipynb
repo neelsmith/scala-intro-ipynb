{
 "cells": [
  {
   "cell_type": "markdown",
   "metadata": {},
   "source": [
    "# Sets in Scala\n",
    "\n",
    "## Before reading this\n",
    "\n",
    "You should work through [this notebook on named expressions and methods](named-expressions.ipynb).\n",
    "\n",
    "\n"
   ]
  },
  {
   "cell_type": "markdown",
   "metadata": {
    "nteract": {
     "transient": {
      "deleting": false
     }
    }
   },
   "source": [
    "## Sets\n",
    "\n",
    "Sets are unordered collections of unique values.  The syntax for defining a Set looks just the syntax for defining a Vector:  you list values between parentheses.  Here is a Set listing all the denominations of coinage that the emperor Augustus struck."
   ]
  },
  {
   "cell_type": "code",
   "execution_count": null,
   "metadata": {
    "inputHidden": false,
    "outputHidden": false
   },
   "outputs": [],
   "source": [
    "val augustanDenominations = Set(\"aureus\", \n",
    "                   \"denarius\", \n",
    "                   \"sestertius\", \n",
    "                   \"dupondius\", \n",
    "                   \"as\", \n",
    "                   \"semis\",\n",
    "                  \"quadrans\")\n"
   ]
  },
  {
   "cell_type": "markdown",
   "metadata": {},
   "source": [
    "Notice that as with all types of collections, Scala indicates the type of elements this Set contains: `augustanDenominations` is a Set of String values.\n",
    "\n",
    "\n",
    "### Methods on Sets\n",
    "\n",
    "Like the Vector class, the Set class has a `size` method.\n"
   ]
  },
  {
   "cell_type": "code",
   "execution_count": null,
   "metadata": {},
   "outputs": [],
   "source": [
    "augustanDenominations.size"
   ]
  },
  {
   "cell_type": "markdown",
   "metadata": {},
   "source": [
    " One important use of Sets is to see if some value is contained in a Set."
   ]
  },
  {
   "cell_type": "code",
   "execution_count": null,
   "metadata": {},
   "outputs": [],
   "source": [
    "augustanDenominations.contains(\"aureus\")\n",
    "augustanDenominations.contains(\"antoninianus\")"
   ]
  },
  {
   "cell_type": "markdown",
   "metadata": {},
   "source": [
    "### Comparing Sets\n",
    "\n",
    "Scala includes methods for the three important ways to compare two Sets.  Each method creates a new Set:\n",
    "\n",
    "- `union` creates a new Set containing all members in either of the two sources\n",
    "- `intersection` creates a new Set containing only those members belonging to both of the two sources\n",
    "\n",
    "These two methods are symmetrical:  `set1.union(set2)` is the same as `set2.union(set1)`, and `set1.intersection(set2)` is the same as `set2.intersection(set1)`.\n",
    "\n",
    "\n",
    "- `diff` (for *difference*) creates a new Set containing only those members belonging to the first Set, but not the second.\n",
    "\n",
    "This method is *not* symmetrical:  `set1.diff(set2)` might produce different results than `set2.diff(set1)`.\n",
    "\n",
    "### Comparing Sets of coin denominations\n",
    "\n",
    "Let's create a Set for all the denominations of Roman coins listed in this illustration in the wikipedia artile on [Roman currency](https://en.wikipedia.org/wiki/Roman_currency).\n",
    "\n",
    "<img src=\"https://upload.wikimedia.org/wikipedia/commons/3/34/Common_Roman_Coins.jpg\" width=\"400\"/>\n"
   ]
  },
  {
   "cell_type": "code",
   "execution_count": null,
   "metadata": {},
   "outputs": [],
   "source": [
    "val wikipediaDenominations =  Set(\n",
    "  \"aureus\", \"solidus\", \"AE3\", \"AE4\", \n",
    "  \"denarius\", \"tremissis\", \n",
    "  \"antoninianus\", \"siliqua\", \"sesterius\",\n",
    "  \"as\", \"follis\", \"dupondius\"\n",
    ")"
   ]
  },
  {
   "cell_type": "markdown",
   "metadata": {},
   "source": [
    "Now let's compare that Set with the Set we previously defined of of denominiations used by Augustus.\n",
    "\n",
    "Does the wikipedia article include *every* issue in our list of Augustan coins?  We can find out with `diff`:"
   ]
  },
  {
   "cell_type": "code",
   "execution_count": null,
   "metadata": {},
   "outputs": [],
   "source": [
    "augustanDenominations diff wikipediaDenominations"
   ]
  },
  {
   "cell_type": "markdown",
   "metadata": {},
   "source": [
    "What denominations does wikipedia list that are *not* struck by Augustus?"
   ]
  },
  {
   "cell_type": "code",
   "execution_count": null,
   "metadata": {},
   "outputs": [],
   "source": [
    "wikipediaDenominations diff augustanDenominations"
   ]
  },
  {
   "cell_type": "markdown",
   "metadata": {},
   "source": [
    "How much overlap is there between our two sets?"
   ]
  },
  {
   "cell_type": "code",
   "execution_count": null,
   "metadata": {},
   "outputs": [],
   "source": [
    "augustanDenominations union wikipediaDenominations\n"
   ]
  },
  {
   "cell_type": "code",
   "execution_count": null,
   "metadata": {},
   "outputs": [],
   "source": [
    "augustanDenominations union wikipediaDenominations"
   ]
  },
  {
   "cell_type": "markdown",
   "metadata": {},
   "source": [
    "How many of our Augustan denominations *are* listed by wikipedia? "
   ]
  },
  {
   "cell_type": "code",
   "execution_count": null,
   "metadata": {
    "inputHidden": false,
    "outputHidden": false
   },
   "outputs": [],
   "source": [
    "augustanDenominations intersect wikipediaDenominations"
   ]
  },
  {
   "cell_type": "markdown",
   "metadata": {},
   "source": [
    "## Summary\n",
    "\n",
    "- *Sets* are unordered collections of unique values\n",
    "- Use *contains* to find out if a value appears in a Set\n",
    "- Use *union*, *intersection* and *diff* to compare two Sets"
   ]
  }
 ],
 "metadata": {
  "kernel_info": {
   "name": "scala212"
  },
  "kernelspec": {
   "display_name": "Scala (2.12)",
   "language": "scala",
   "name": "scala212"
  },
  "language_info": {
   "codemirror_mode": "text/x-scala",
   "file_extension": ".scala",
   "mimetype": "text/x-scala",
   "name": "scala",
   "nbconvert_exporter": "script",
   "version": "2.12.10"
  },
  "nteract": {
   "version": "0.21.0"
  }
 },
 "nbformat": 4,
 "nbformat_minor": 2
}
