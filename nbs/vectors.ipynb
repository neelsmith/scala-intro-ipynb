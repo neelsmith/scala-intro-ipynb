{
  "cells": [
    {
      "cell_type": "markdown",
      "source": [
        "# Vectors\n",
        "\n",
        "## Before reading this\n",
        "\n",
        "You should work through [this notebook on named expressions and methods](named-expressions.ipynb)"
      ],
      "metadata": {}
    },
    {
      "cell_type": "code",
      "source": [
        "val paine = \"These are the times that try men's souls.\"\n",
        "val wordsArray = paine.split(\" \")\n",
        "val words = wordsArray.toVector\n"
      ],
      "outputs": [
        {
          "output_type": "execute_result",
          "execution_count": 1,
          "data": {
            "text/plain": [
              "\u001b[36mpaine\u001b[39m: \u001b[32mString\u001b[39m = \u001b[32m\"These are the times that try men's souls.\"\u001b[39m\n",
              "\u001b[36mwordsArray\u001b[39m: \u001b[32mArray\u001b[39m[\u001b[32mString\u001b[39m] = \u001b[33mArray\u001b[39m(\n",
              "  \u001b[32m\"These\"\u001b[39m,\n",
              "  \u001b[32m\"are\"\u001b[39m,\n",
              "  \u001b[32m\"the\"\u001b[39m,\n",
              "  \u001b[32m\"times\"\u001b[39m,\n",
              "  \u001b[32m\"that\"\u001b[39m,\n",
              "  \u001b[32m\"try\"\u001b[39m,\n",
              "  \u001b[32m\"men's\"\u001b[39m,\n",
              "  \u001b[32m\"souls.\"\u001b[39m\n",
              ")\n",
              "\u001b[36mwords\u001b[39m: \u001b[32mVector\u001b[39m[\u001b[32mString\u001b[39m] = \u001b[33mVector\u001b[39m(\n",
              "  \u001b[32m\"These\"\u001b[39m,\n",
              "  \u001b[32m\"are\"\u001b[39m,\n",
              "  \u001b[32m\"the\"\u001b[39m,\n",
              "  \u001b[32m\"times\"\u001b[39m,\n",
              "  \u001b[32m\"that\"\u001b[39m,\n",
              "  \u001b[32m\"try\"\u001b[39m,\n",
              "  \u001b[32m\"men's\"\u001b[39m,\n",
              "  \u001b[32m\"souls.\"\u001b[39m\n",
              ")"
            ]
          },
          "metadata": {}
        }
      ],
      "execution_count": 1,
      "metadata": {
        "collapsed": false,
        "outputHidden": false,
        "inputHidden": false
      }
    },
    {
      "cell_type": "code",
      "source": [
        "words.size\n",
        "words.head\n",
        "words.tail\n",
        "words.last\n",
        "words.mkString(\"\\n\")\n"
      ],
      "outputs": [],
      "execution_count": null,
      "metadata": {
        "collapsed": false,
        "outputHidden": false,
        "inputHidden": false
      }
    },
    {
      "cell_type": "markdown",
      "source": [
        "## Querying a collection: `filter`\n"
      ],
      "metadata": {}
    },
    {
      "cell_type": "code",
      "source": [
        "\n",
        "val alliterationVerbose = words.filter( w => w.toLowerCase.startsWith(\"t\"))\n",
        "// same as\n",
        "val alliterationTerse = words.filter(_.toLowerCase.startsWith(\"t\"))\n",
        "\n",
        "\n",
        "\n"
      ],
      "outputs": [
        {
          "output_type": "execute_result",
          "execution_count": 2,
          "data": {
            "text/plain": [
              "\u001b[36malliterationVerbose\u001b[39m: \u001b[32mVector\u001b[39m[\u001b[32mString\u001b[39m] = \u001b[33mVector\u001b[39m(\n",
              "  \u001b[32m\"These\"\u001b[39m,\n",
              "  \u001b[32m\"the\"\u001b[39m,\n",
              "  \u001b[32m\"times\"\u001b[39m,\n",
              "  \u001b[32m\"that\"\u001b[39m,\n",
              "  \u001b[32m\"try\"\u001b[39m\n",
              ")\n",
              "\u001b[36malliterationTerse\u001b[39m: \u001b[32mVector\u001b[39m[\u001b[32mString\u001b[39m] = \u001b[33mVector\u001b[39m(\n",
              "  \u001b[32m\"These\"\u001b[39m,\n",
              "  \u001b[32m\"the\"\u001b[39m,\n",
              "  \u001b[32m\"times\"\u001b[39m,\n",
              "  \u001b[32m\"that\"\u001b[39m,\n",
              "  \u001b[32m\"try\"\u001b[39m\n",
              ")"
            ]
          },
          "metadata": {}
        }
      ],
      "execution_count": 2,
      "metadata": {
        "collapsed": false,
        "outputHidden": false,
        "inputHidden": false
      }
    },
    {
      "cell_type": "markdown",
      "source": [
        "## Transforming a collection:  `map`\n"
      ],
      "metadata": {}
    },
    {
      "cell_type": "code",
      "source": [
        "val shoutedVerbose = words.map(w => w.toUpperCase)\n",
        "\n",
        "val shoutedTerse = words.map(_.toUpperCase)"
      ],
      "outputs": [],
      "execution_count": null,
      "metadata": {
        "collapsed": false,
        "outputHidden": false,
        "inputHidden": false
      }
    },
    {
      "cell_type": "code",
      "source": [
        "val wordSizes = words.map( w => (w, w.size) )"
      ],
      "outputs": [
        {
          "output_type": "execute_result",
          "execution_count": 3,
          "data": {
            "text/plain": [
              "\u001b[36mwordSizes\u001b[39m: \u001b[32mVector\u001b[39m[(\u001b[32mString\u001b[39m, \u001b[32mInt\u001b[39m)] = \u001b[33mVector\u001b[39m(\n",
              "  (\u001b[32m\"These\"\u001b[39m, \u001b[32m5\u001b[39m),\n",
              "  (\u001b[32m\"are\"\u001b[39m, \u001b[32m3\u001b[39m),\n",
              "  (\u001b[32m\"the\"\u001b[39m, \u001b[32m3\u001b[39m),\n",
              "  (\u001b[32m\"times\"\u001b[39m, \u001b[32m5\u001b[39m),\n",
              "  (\u001b[32m\"that\"\u001b[39m, \u001b[32m4\u001b[39m),\n",
              "  (\u001b[32m\"try\"\u001b[39m, \u001b[32m3\u001b[39m),\n",
              "  (\u001b[32m\"men's\"\u001b[39m, \u001b[32m5\u001b[39m),\n",
              "  (\u001b[32m\"souls.\"\u001b[39m, \u001b[32m6\u001b[39m)\n",
              ")"
            ]
          },
          "metadata": {}
        }
      ],
      "execution_count": 3,
      "metadata": {
        "collapsed": false,
        "outputHidden": false,
        "inputHidden": false
      }
    },
    {
      "cell_type": "code",
      "source": [
        "wordSizes.sortBy(_._2).reverse"
      ],
      "outputs": [
        {
          "output_type": "execute_result",
          "execution_count": 5,
          "data": {
            "text/plain": [
              "\u001b[36mres4\u001b[39m: \u001b[32mVector\u001b[39m[(\u001b[32mString\u001b[39m, \u001b[32mInt\u001b[39m)] = \u001b[33mVector\u001b[39m(\n",
              "  (\u001b[32m\"souls.\"\u001b[39m, \u001b[32m6\u001b[39m),\n",
              "  (\u001b[32m\"men's\"\u001b[39m, \u001b[32m5\u001b[39m),\n",
              "  (\u001b[32m\"times\"\u001b[39m, \u001b[32m5\u001b[39m),\n",
              "  (\u001b[32m\"These\"\u001b[39m, \u001b[32m5\u001b[39m),\n",
              "  (\u001b[32m\"that\"\u001b[39m, \u001b[32m4\u001b[39m),\n",
              "  (\u001b[32m\"try\"\u001b[39m, \u001b[32m3\u001b[39m),\n",
              "  (\u001b[32m\"the\"\u001b[39m, \u001b[32m3\u001b[39m),\n",
              "  (\u001b[32m\"are\"\u001b[39m, \u001b[32m3\u001b[39m)\n",
              ")"
            ]
          },
          "metadata": {}
        }
      ],
      "execution_count": 5,
      "metadata": {
        "collapsed": false,
        "outputHidden": false,
        "inputHidden": false
      }
    },
    {
      "cell_type": "code",
      "source": [
        "\"long\".replaceAll(\"[.,;]\", \"\")"
      ],
      "outputs": [
        {
          "output_type": "execute_result",
          "execution_count": 8,
          "data": {
            "text/plain": [
              "\u001b[36mres7\u001b[39m: \u001b[32mString\u001b[39m = \u001b[32m\"long\"\u001b[39m"
            ]
          },
          "metadata": {}
        }
      ],
      "execution_count": 8,
      "metadata": {
        "collapsed": false,
        "outputHidden": false,
        "inputHidden": false
      }
    },
    {
      "cell_type": "markdown",
      "source": [
        "## Summary\n",
        "\n"
      ],
      "metadata": {}
    }
  ],
  "metadata": {
    "kernel_info": {
      "name": "scala212"
    },
    "kernelspec": {
      "name": "scala212",
      "language": "scala",
      "display_name": "Scala212 (almond)"
    },
    "language_info": {
      "name": "scala",
      "version": "2.12.10",
      "mimetype": "text/x-scala",
      "file_extension": ".scala",
      "nbconvert_exporter": "script",
      "codemirror_mode": "text/x-scala"
    },
    "nteract": {
      "version": "0.15.0"
    }
  },
  "nbformat": 4,
  "nbformat_minor": 2
}