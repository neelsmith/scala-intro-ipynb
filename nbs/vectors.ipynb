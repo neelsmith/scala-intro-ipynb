{
 "cells": [
  {
   "cell_type": "markdown",
   "metadata": {},
   "source": [
    "# Vectors\n",
    "\n",
    "## Before reading this\n",
    "\n",
    "You should work through [this notebook on named expressions and methods](named-expressions.ipynb).\n",
    "\n",
    "Scala has many types of collections.  For *ordered* collections of items, we'll regularly use the *Vector* class. A Vector contains 0 or more elements, which can be defined by listing them individually, as in the following cell."
   ]
  },
  {
   "cell_type": "code",
   "execution_count": null,
   "metadata": {
    "inputHidden": false,
    "outputHidden": false
   },
   "outputs": [],
   "source": [
    "val handTyped = Vector(\"A\", \"list\", \"of\", \"words.\")\n"
   ]
  },
  {
   "cell_type": "markdown",
   "metadata": {},
   "source": [
    "You can refer to individual cells with a numeric index between parentheses.  In Scala, as in many programming languages, the index begins counting from 0.\n"
   ]
  },
  {
   "cell_type": "code",
   "execution_count": null,
   "metadata": {
    "inputHidden": false,
    "outputHidden": false
   },
   "outputs": [],
   "source": [
    "val firstWord = handTyped(0)\n",
    "val secondWord = handTyped(1)"
   ]
  },
  {
   "cell_type": "markdown",
   "metadata": {},
   "source": [
    "Many methods produce collections, either Vectors, or other Scala collection types.  The other collection types include a method called `toVector` that converts the collection to a Vector collection.\n",
    "\n",
    "The `split` method of the String class, for example, creates a collection of Strings, using a collection type called an `Array`.  In the following cell, you can see how the `split` method creates a new collection of Strings by splitting up an original string.  We then convert the new collection a Vector."
   ]
  },
  {
   "cell_type": "code",
   "execution_count": null,
   "metadata": {
    "inputHidden": false,
    "outputHidden": false
   },
   "outputs": [],
   "source": [
    "val paine = \"These are the times that try men's souls.\"\n",
    "val wordsArray = paine.split(\" \")\n",
    "val words = wordsArray.toVector\n"
   ]
  },
  {
   "cell_type": "markdown",
   "metadata": {},
   "source": [
    "The Vector class has many useful methods.  Here are a few that you're likely to reuse frequently.  Run the cell below and figure out what kind of expression each method creates."
   ]
  },
  {
   "cell_type": "code",
   "execution_count": null,
   "metadata": {
    "inputHidden": false,
    "outputHidden": false
   },
   "outputs": [],
   "source": [
    "words.size\n",
    "words.head\n",
    "words.tail\n",
    "words.last\n",
    "words.mkString(\"\\n\")\n"
   ]
  },
  {
   "cell_type": "markdown",
   "metadata": {},
   "source": [
    "## Querying a collection: `filter`\n",
    "\n",
    "Like other kinds of collections in Scala, Vectors have a `filter` method you can use to query a collection. You specify a Boolean (true/false) condition, and the `filter` method applies it to every element in the Vector.  The result is a new Vector containing only elements that satisfied the condition you specified.\n",
    "\n",
    "The following cell illustrates the full syntax of the `filter` method.  On the left side of the \"fat arrow\" `=>` is a name we will use to stand for each element in the Vector.  Here, since the Vector contains Strings representing words, we'll call it `w`.  On the right side of the fat arrow is the test.  Here, we use the `startsWith` method of the String class. Its output is a Boolean value, just what we need.  Here, it will be true for words starting with the String value \"t\". "
   ]
  },
  {
   "cell_type": "code",
   "execution_count": null,
   "metadata": {
    "inputHidden": false,
    "outputHidden": false
   },
   "outputs": [],
   "source": [
    "val alliteration = words.filter( w => w.startsWith(\"t\"))\n"
   ]
  },
  {
   "cell_type": "markdown",
   "metadata": {},
   "source": [
    "Can you figure out how to determine how many words are in the original Vector, and how many are in the filtered Vector?"
   ]
  },
  {
   "cell_type": "code",
   "execution_count": null,
   "metadata": {},
   "outputs": [],
   "source": [
    "// Figure out how many words are in the original `words` Vector, and how many are in the new `alliteration` Vector."
   ]
  },
  {
   "cell_type": "markdown",
   "metadata": {},
   "source": []
  },
  {
   "cell_type": "markdown",
   "metadata": {},
   "source": [
    "## Transforming a collection:  `map`\n"
   ]
  },
  {
   "cell_type": "code",
   "execution_count": null,
   "metadata": {
    "inputHidden": false,
    "outputHidden": false
   },
   "outputs": [],
   "source": [
    "val shoutedVerbose = words.map(w => w.toUpperCase)\n",
    "\n",
    "val shoutedTerse = words.map(_.toUpperCase)"
   ]
  },
  {
   "cell_type": "code",
   "execution_count": null,
   "metadata": {
    "inputHidden": false,
    "outputHidden": false
   },
   "outputs": [],
   "source": [
    "val wordSizes = words.map( w => (w, w.size) )"
   ]
  },
  {
   "cell_type": "code",
   "execution_count": null,
   "metadata": {
    "inputHidden": false,
    "outputHidden": false
   },
   "outputs": [],
   "source": [
    "wordSizes.sortBy(_._2).reverse"
   ]
  },
  {
   "cell_type": "code",
   "execution_count": null,
   "metadata": {
    "inputHidden": false,
    "outputHidden": false
   },
   "outputs": [],
   "source": [
    "\"long\".replaceAll(\"[.,;]\", \"\")"
   ]
  },
  {
   "cell_type": "markdown",
   "metadata": {},
   "source": [
    "## Summary\n",
    "\n",
    "- *Vectors* are an ordered collection of objects.\n",
    "- The Vector class has many useful methods, such as *size*, *head*, *tail* and *mkString()*.\n",
    "- To \"query\" a Vector, define a condition with the *filter* method.  This will produce a new Vector of the same type.  Its size will be from 0 up to the size of the original Vector.\n",
    "- To create a new Vector with every element *transformed* from the original Vector, use the *map* method. The size of the new Vector will be exactly the same as the original Vector.  The may or may not contain the same kind of elements."
   ]
  }
 ],
 "metadata": {
  "kernel_info": {
   "name": "scala212"
  },
  "kernelspec": {
   "display_name": "Scala (2.12)",
   "language": "scala",
   "name": "scala212"
  },
  "language_info": {
   "codemirror_mode": "text/x-scala",
   "file_extension": ".scala",
   "mimetype": "text/x-scala",
   "name": "scala",
   "nbconvert_exporter": "script",
   "version": "2.12.10"
  },
  "nteract": {
   "version": "0.15.0"
  }
 },
 "nbformat": 4,
 "nbformat_minor": 2
}
